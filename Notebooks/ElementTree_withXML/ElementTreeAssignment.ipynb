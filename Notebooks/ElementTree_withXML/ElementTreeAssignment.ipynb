{
 "cells": [
  {
   "cell_type": "markdown",
   "metadata": {},
   "source": [
    "# Assignment 2: Analyze XML Data with ElementTree\n",
    "\n",
    "#### Code Sources: \n",
    "* GeeksForGeeks tutorial on [XML Parsing in Python](https://www.geeksforgeeks.org/xml-parsing-python/)\n",
    "* OpenWritings tutorial on [Python - How to write XML file](https://openwritings.net/pg/python/python-how-write-xml-file#:~:text=As%20always%20with%20Python%2C%20there%20are%20different%20ways,library%20since%20Python%202.5.%20%23%21%2Fusr%2Fbin%2Fpython3%20import%20xml.%20etree.)\n",
    "\n",
    "***\n",
    "\n",
    "## Course: Analyzing Structured Data with Pandas and ElementTree\n",
    "\n",
    "### [Centre for Data, Culture & Society](https://www.cdcs.ed.ac.uk/)\n",
    "\n",
    "#### Instructor Example by Lucy Havens\n",
    "\n",
    "March 25, 2022\n",
    "\n",
    "***"
   ]
  },
  {
   "cell_type": "code",
   "execution_count": 45,
   "metadata": {},
   "outputs": [],
   "source": [
    "import csv\n",
    "import urllib.request\n",
    "from xml.dom import minidom\n",
    "import xml.etree.ElementTree as ET"
   ]
  },
  {
   "cell_type": "markdown",
   "metadata": {},
   "source": [
    "First we write **functions** that we'll use to access and parse (a.k.a. read, process) data in **Extensible Markup Language (XML)** format from a website.  Functions store lines of code you write under a name that allows you to quickly reference and run those lines of code without having to rewrite them.  As a result, functions improve the *efficiency* of your programming."
   ]
  },
  {
   "cell_type": "code",
   "execution_count": 76,
   "metadata": {},
   "outputs": [],
   "source": [
    "################# FUNCTION 1 #####################\n",
    "# Input: file name (type=str) and URL\n",
    "# Output: file of XML data from that website named as the input file name and XML tree\n",
    "##################################################\n",
    "def loadXMLFromURL(filename, url):\n",
    "    response_object = urllib.request.urlopen(url)   # create HTTP response object from url\n",
    "    tree = ET.parse(response_object)\n",
    "    root = tree.getroot()\n",
    "    # create a formatted XML string\n",
    "    xml_string = minidom.parseString(ET.tostring(root)).toprettyxml(indent=\"\\t\")\n",
    "    with open(filename, 'w') as f:                  # open a new, blank file in write mode ('w' means write)\n",
    "        f.write(xml_string)                         # save the xml data string to a file f\n",
    "    f.close()\n",
    "    print(\"Finished writing \"+filename+\"!\")\n",
    "    return tree"
   ]
  },
  {
   "cell_type": "code",
   "execution_count": 81,
   "metadata": {},
   "outputs": [],
   "source": [
    "################# FUNCTION 2 #####################\n",
    "# Input: ElementTree tree object of XML data\n",
    "# Output: data as a list of dictionaries (type=dict)\n",
    "##################################################\n",
    "def parseXML(tree):\n",
    "    root = tree.getroot()          # get the tree's root node (a.k.a. root element)\n",
    "    items = []                     # create a list to add news items to\n",
    "    # iterate through the news items in the tree of XML data with a for loop\n",
    "    for elem in root.findall('./channel/item'):\n",
    "        item_dict = {}             # create a dictionary to add news information to\n",
    "        for child in elem:         # iterate through the children of elem\n",
    "            item_dict[child.tag] = child.text\n",
    "        items.append(item_dict)    # add the news dict to the newsitems list\n",
    "    return items                   # return the list of dictionaries"
   ]
  },
  {
   "cell_type": "code",
   "execution_count": 82,
   "metadata": {},
   "outputs": [],
   "source": [
    "################# FUNCTION 3 #####################\n",
    "# Input: list of dictionaries (type=list), file name (type=str), and list (type=list) of \n",
    "#        column names (type=str) for the CSV file to be output (if none provided, use default)\n",
    "# Output: file of the input data in comma-separated values format (CSV)\n",
    "##################################################\n",
    "europeana_tag_names = ['guid','title','description','link']\n",
    "def writeCSV(items, filename, fields=europeana_tag_names):\n",
    "    with open(filename, 'w') as csvfile:                     # open a new blank file to write to\n",
    "        writer = csv.DictWriter(csvfile, fieldnames=fields)  # create the csv module's writer object\n",
    "        writer.writeheader()                                 # write fields as header (column names)\n",
    "        writer.writerows(items)                              # write input data as rows\n",
    "    csvfile.close()\n",
    "    print(\"Finished writing \"+filename+\"!\")"
   ]
  },
  {
   "cell_type": "code",
   "execution_count": 83,
   "metadata": {},
   "outputs": [],
   "source": [
    "################# FUNCTION 4 #####################\n",
    "# Input: URL (if none given, use the default URL provided in the () below), XML file name, CSV file name\n",
    "# Output: XMl file and CSV file of data from an input url\n",
    "##################################################\n",
    "europeana_search_blue = \"https://api.europeana.eu/record/v2/opensearch.rss?searchTerms=blue&count=100&startIndex=100\"\n",
    "def getXMLandCSV(xmlname, csvname, url=europeana_search_blue):\n",
    "    tree = loadXMLFromURL(xmlname, url)     # write an XML file\n",
    "    items = parseXML(tree)                  # parse the XML file\n",
    "    writeCSV(items, csvname)                # write data in XML file to CSV file"
   ]
  },
  {
   "cell_type": "code",
   "execution_count": 84,
   "metadata": {},
   "outputs": [
    {
     "name": "stdout",
     "output_type": "stream",
     "text": [
      "Finished writing europeana_search-blue_count-100_start-100.xml!\n",
      "Finished writing europeana_blue_examples.csv!\n"
     ]
    }
   ],
   "source": [
    "getXMLandCSV(\"europeana_search-blue_count-100_start-100.xml\", \"europeana_blue_examples.csv\")"
   ]
  },
  {
   "cell_type": "markdown",
   "metadata": {},
   "source": [
    "Try opening the XML file in a text editor such as Atom and the CSV file as a spreadsheet in, for example, Microsot Excel.  How does the data look?"
   ]
  },
  {
   "cell_type": "markdown",
   "metadata": {},
   "source": [
    "It's useful to save the XML data in a file because it means we can recreate the ElementTree tree object for future programming tasks, because when we shutdown this Jupyter Notebook, the `tree` variable will be forgotten.\n",
    "\n",
    "To create a tree from an XML file, instead of a URL, we can write:"
   ]
  },
  {
   "cell_type": "code",
   "execution_count": 44,
   "metadata": {},
   "outputs": [
    {
     "name": "stdout",
     "output_type": "stream",
     "text": [
      "['amulets', 'amulet, leaf', 'amulets', 'beads', 'amulets']\n"
     ]
    }
   ],
   "source": [
    "xmlfile = \"europeana_search-blue_count-100_start-100.xml\"\n",
    "tree = ET.parse(xmlfile)\n",
    "root = tree.getroot()\n",
    "titles = []\n",
    "for elem in root.findall('./channel/item/title'):\n",
    "    titles += [elem.text]\n",
    "print(titles[:5])"
   ]
  },
  {
   "cell_type": "code",
   "execution_count": null,
   "metadata": {},
   "outputs": [],
   "source": []
  },
  {
   "cell_type": "code",
   "execution_count": null,
   "metadata": {},
   "outputs": [],
   "source": []
  },
  {
   "cell_type": "code",
   "execution_count": null,
   "metadata": {},
   "outputs": [],
   "source": []
  }
 ],
 "metadata": {
  "kernelspec": {
   "display_name": "Python 3",
   "language": "python",
   "name": "python3"
  },
  "language_info": {
   "codemirror_mode": {
    "name": "ipython",
    "version": 3
   },
   "file_extension": ".py",
   "mimetype": "text/x-python",
   "name": "python",
   "nbconvert_exporter": "python",
   "pygments_lexer": "ipython3",
   "version": "3.8.10"
  }
 },
 "nbformat": 4,
 "nbformat_minor": 4
}
