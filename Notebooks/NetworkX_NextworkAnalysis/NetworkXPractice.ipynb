{
 "cells": [
  {
   "cell_type": "markdown",
   "metadata": {},
   "source": [
    "# Network Analysis with NetworkX\n",
    "*For the third course in a CDCS Python Library Series taught November-December 2020 by Lucy Havens*\n",
    "\n",
    "Use this notebook to practice analyzing network data in Python with [NetworkX](https://networkx.org/documentation/stable/install.html).\n",
    "\n",
    "We follow The Programming Historian's tutorial on [Exploring and Analysing Network Data with Python](https://programminghistorian.org/en/lessons/exploring-and-analyzing-network-data-with-python#fn:pipinstall) to create an undirected network from CSV data.\n",
    "\n",
    "***\n",
    "\n",
    "## 1. Preparation\n",
    "### Import libraries\n",
    "The following libraries must be installed on the server where you are running this Notebook (if you're using MyBinder, this is done automatically during the MyBinder setup)."
   ]
  },
  {
   "cell_type": "code",
   "execution_count": 59,
   "metadata": {},
   "outputs": [],
   "source": [
    "import re\n",
    "import string\n",
    "import pandas as pd\n",
    "import networkx as nx\n",
    "from networkx.algorithms import community\n",
    "import matplotlib.pyplot as plt\n",
    "from networkx import Graph"
   ]
  },
  {
   "cell_type": "markdown",
   "metadata": {},
   "source": [
    "### Review the Data\n",
    "To take a look at the data we'll be working with, we'll load data files provided in the [tutorial](https://programminghistorian.org/en/lessons/exploring-and-analyzing-network-data-with-python#fn:pipinstall).  Download the data files and save them inside the same folder as this Notebook (if you're using MyBinder, this has already been done for you)."
   ]
  },
  {
   "cell_type": "code",
   "execution_count": 2,
   "metadata": {},
   "outputs": [
    {
     "data": {
      "text/html": [
       "<div>\n",
       "<style scoped>\n",
       "    .dataframe tbody tr th:only-of-type {\n",
       "        vertical-align: middle;\n",
       "    }\n",
       "\n",
       "    .dataframe tbody tr th {\n",
       "        vertical-align: top;\n",
       "    }\n",
       "\n",
       "    .dataframe thead th {\n",
       "        text-align: right;\n",
       "    }\n",
       "</style>\n",
       "<table border=\"1\" class=\"dataframe\">\n",
       "  <thead>\n",
       "    <tr style=\"text-align: right;\">\n",
       "      <th></th>\n",
       "      <th>Source</th>\n",
       "      <th>Target</th>\n",
       "    </tr>\n",
       "  </thead>\n",
       "  <tbody>\n",
       "    <tr>\n",
       "      <th>0</th>\n",
       "      <td>George Keith</td>\n",
       "      <td>Robert Barclay</td>\n",
       "    </tr>\n",
       "    <tr>\n",
       "      <th>1</th>\n",
       "      <td>George Keith</td>\n",
       "      <td>Benjamin Furly</td>\n",
       "    </tr>\n",
       "    <tr>\n",
       "      <th>2</th>\n",
       "      <td>George Keith</td>\n",
       "      <td>Anne Conway Viscountess Conway and Killultagh</td>\n",
       "    </tr>\n",
       "    <tr>\n",
       "      <th>3</th>\n",
       "      <td>George Keith</td>\n",
       "      <td>Franciscus Mercurius van Helmont</td>\n",
       "    </tr>\n",
       "    <tr>\n",
       "      <th>4</th>\n",
       "      <td>George Keith</td>\n",
       "      <td>William Penn</td>\n",
       "    </tr>\n",
       "  </tbody>\n",
       "</table>\n",
       "</div>"
      ],
      "text/plain": [
       "         Source                                         Target\n",
       "0  George Keith                                 Robert Barclay\n",
       "1  George Keith                                 Benjamin Furly\n",
       "2  George Keith  Anne Conway Viscountess Conway and Killultagh\n",
       "3  George Keith               Franciscus Mercurius van Helmont\n",
       "4  George Keith                                   William Penn"
      ]
     },
     "execution_count": 2,
     "metadata": {},
     "output_type": "execute_result"
    }
   ],
   "source": [
    "# Read the CSV data\n",
    "edges_df = pd.read_csv('quakers_edgelist.csv')\n",
    "\n",
    "# Display the first five rows of the data in a DataFrame \n",
    "# (a DataFrame is a sort of table provided in the Pandas library)\n",
    "edges_df.head()"
   ]
  },
  {
   "cell_type": "code",
   "execution_count": 3,
   "metadata": {},
   "outputs": [
    {
     "data": {
      "text/html": [
       "<div>\n",
       "<style scoped>\n",
       "    .dataframe tbody tr th:only-of-type {\n",
       "        vertical-align: middle;\n",
       "    }\n",
       "\n",
       "    .dataframe tbody tr th {\n",
       "        vertical-align: top;\n",
       "    }\n",
       "\n",
       "    .dataframe thead th {\n",
       "        text-align: right;\n",
       "    }\n",
       "</style>\n",
       "<table border=\"1\" class=\"dataframe\">\n",
       "  <thead>\n",
       "    <tr style=\"text-align: right;\">\n",
       "      <th></th>\n",
       "      <th>Name</th>\n",
       "      <th>Historical Significance</th>\n",
       "      <th>Gender</th>\n",
       "      <th>Birthdate</th>\n",
       "      <th>Deathdate</th>\n",
       "      <th>ID</th>\n",
       "    </tr>\n",
       "  </thead>\n",
       "  <tbody>\n",
       "    <tr>\n",
       "      <th>0</th>\n",
       "      <td>Joseph Wyeth</td>\n",
       "      <td>religious writer</td>\n",
       "      <td>male</td>\n",
       "      <td>1663</td>\n",
       "      <td>1731</td>\n",
       "      <td>10013191</td>\n",
       "    </tr>\n",
       "    <tr>\n",
       "      <th>1</th>\n",
       "      <td>Alexander Skene of Newtyle</td>\n",
       "      <td>local politician and author</td>\n",
       "      <td>male</td>\n",
       "      <td>1621</td>\n",
       "      <td>1694</td>\n",
       "      <td>10011149</td>\n",
       "    </tr>\n",
       "    <tr>\n",
       "      <th>2</th>\n",
       "      <td>James Logan</td>\n",
       "      <td>colonial official and scholar</td>\n",
       "      <td>male</td>\n",
       "      <td>1674</td>\n",
       "      <td>1751</td>\n",
       "      <td>10007567</td>\n",
       "    </tr>\n",
       "    <tr>\n",
       "      <th>3</th>\n",
       "      <td>Dorcas Erbery</td>\n",
       "      <td>Quaker preacher</td>\n",
       "      <td>female</td>\n",
       "      <td>1656</td>\n",
       "      <td>1659</td>\n",
       "      <td>10003983</td>\n",
       "    </tr>\n",
       "    <tr>\n",
       "      <th>4</th>\n",
       "      <td>Lilias Skene</td>\n",
       "      <td>Quaker preacher and poet</td>\n",
       "      <td>male</td>\n",
       "      <td>1626</td>\n",
       "      <td>1697</td>\n",
       "      <td>10011152</td>\n",
       "    </tr>\n",
       "  </tbody>\n",
       "</table>\n",
       "</div>"
      ],
      "text/plain": [
       "                         Name        Historical Significance  Gender  \\\n",
       "0                Joseph Wyeth               religious writer    male   \n",
       "1  Alexander Skene of Newtyle    local politician and author    male   \n",
       "2                 James Logan  colonial official and scholar    male   \n",
       "3               Dorcas Erbery                Quaker preacher  female   \n",
       "4                Lilias Skene       Quaker preacher and poet    male   \n",
       "\n",
       "   Birthdate  Deathdate        ID  \n",
       "0       1663       1731  10013191  \n",
       "1       1621       1694  10011149  \n",
       "2       1674       1751  10007567  \n",
       "3       1656       1659  10003983  \n",
       "4       1626       1697  10011152  "
      ]
     },
     "execution_count": 3,
     "metadata": {},
     "output_type": "execute_result"
    }
   ],
   "source": [
    "# Read the CSV data\n",
    "nodes_df = pd.read_csv('quakers_nodelist.csv')\n",
    "\n",
    "# Display the first five rows of the data in a DataFrame \n",
    "# (a DataFrame is a sort of table provided in the Pandas library)\n",
    "nodes_df.head()"
   ]
  },
  {
   "cell_type": "code",
   "execution_count": 14,
   "metadata": {},
   "outputs": [
    {
     "name": "stdout",
     "output_type": "stream",
     "text": [
      "Edges Data\n",
      "  Rows: 174 | Columns: 2\n",
      "Nodes Data\n",
      "  Rows: 119 | Columns: 6\n"
     ]
    }
   ],
   "source": [
    "# To determine the size of our DataFrames,\n",
    "# print their number of rows and columns\n",
    "print(\"Edges Data\")\n",
    "print(\"  Rows:\", edges_df.shape[0], \"| Columns:\", edges_df.shape[1])\n",
    "print(\"Nodes Data\")\n",
    "print(\"  Rows:\", nodes_df.shape[0], \"| Columns:\", nodes_df.shape[1])"
   ]
  },
  {
   "cell_type": "markdown",
   "metadata": {},
   "source": [
    "Let's gather some summary information about the data."
   ]
  },
  {
   "cell_type": "code",
   "execution_count": 48,
   "metadata": {},
   "outputs": [
    {
     "name": "stdout",
     "output_type": "stream",
     "text": [
      "Total unique values: 66\n",
      "['religious writer' 'local politician and author'\n",
      " 'colonial official and scholar' 'Quaker preacher'\n",
      " 'Quaker preacher and poet' 'Quaker preacher and writer' 'Quaker activist'\n",
      " 'Quaker minister and schoolmaster' 'printer'\n",
      " 'philosophical writer and playwright'\n",
      " 'political economist and cloth merchant'\n",
      " ' a founder of the Religious Society of Friends (Quakers)'\n",
      " 'Quaker minister' 'Quaker missionary' 'Quaker activist and physician'\n",
      " 'Quaker leader' 'Quaker activist and writer'\n",
      " 'merchant and pioneer settler in America' 'banker and lobbyist'\n",
      " 'politician' 'Quaker patron and merchant' 'religious controversialist'\n",
      " 'Quaker leader and writer' 'Quaker administrator'\n",
      " 'historian of Quakerism' 'Quaker minister and preacher'\n",
      " 'merchant and religious writer' 'apothecary'\n",
      " 'Quaker adherent and sectary' 'Quaker bibliographer and writer'\n",
      " 'religious writer and schoolmaster' 'Quaker minister and botanist'\n",
      " 'merchant and official in America' 'Quaker minister and writer'\n",
      " 'religious writer and colonial governor' nan 'printer and bookseller'\n",
      " 'Quaker missionary and writer' 'government official and religious writer'\n",
      " 'Quaker schismatic' 'Quaker preacher and author' 'soldier and politician'\n",
      " 'merchant' 'naval officer and politician'\n",
      " 'Quaker schismatic and Church of England clergyman' 'Quaker martyr'\n",
      " 'botanist' 'physician and cabbalist' 'colonial official and merchant'\n",
      " 'philosopher' 'Quaker apostate' 'Quaker preacher in America'\n",
      " 'Quaker missionary and author' 'merchant and colonial governor'\n",
      " 'botanist and explorer in America' 'musician and Quaker missionary'\n",
      " 'parliamentarian army officer' 'maker of clocks, watches, and barometers'\n",
      " 'Quaker apologist and controversialist' 'Quaker and writer'\n",
      " 'Quaker preacher and apothecary'\n",
      " 'Quaker leader and founder of Pennsylvania'\n",
      " 'lawyer and politician in America' 'politician in America'\n",
      " 'Quaker and author' 'Quaker minister and journal writer']\n"
     ]
    }
   ],
   "source": [
    "# Display the unique values in the \"Historical Significance\" column\n",
    "hist_sign_values = nodes_df['Historical Significance'].unique()\n",
    "print(\"Total unique values:\",len(hist_sign_values))\n",
    "print(hist_sign_values)"
   ]
  },
  {
   "cell_type": "code",
   "execution_count": 20,
   "metadata": {},
   "outputs": [
    {
     "name": "stdout",
     "output_type": "stream",
     "text": [
      "Earliest birth: 1551\n",
      "Latest birth: 1699\n",
      "Earliest death: 1656\n",
      "Latest death: 1777\n"
     ]
    }
   ],
   "source": [
    "# Determine the earliest and latest birthdates and deathdates\n",
    "print(\"Earliest birth:\", nodes_df['Birthdate'].min())\n",
    "print(\"Latest birth:\", nodes_df['Birthdate'].max())\n",
    "print(\"Earliest death:\", nodes_df['Deathdate'].min())\n",
    "print(\"Latest death:\", nodes_df['Deathdate'].max())"
   ]
  },
  {
   "cell_type": "code",
   "execution_count": 23,
   "metadata": {},
   "outputs": [
    {
     "name": "stdout",
     "output_type": "stream",
     "text": [
      "Number of males: 97\n",
      "Number of females: 22\n"
     ]
    }
   ],
   "source": [
    "# Determine how many males and females are in the data\n",
    "print(\"Number of males:\",nodes_df[nodes_df[\"Gender\"] == \"male\"].shape[0])\n",
    "print(\"Number of females:\",nodes_df[nodes_df[\"Gender\"] == \"female\"].shape[0])"
   ]
  },
  {
   "cell_type": "markdown",
   "metadata": {},
   "source": [
    "Now, we'll create a Python list of node names and of edges.  There are  two ways to do this:\n",
    "#### Option A\n",
    "This option doesn't use Pandas (the library we loaded at the top of the Notebook and gave the alias `pd`)."
   ]
  },
  {
   "cell_type": "code",
   "execution_count": 25,
   "metadata": {},
   "outputs": [],
   "source": [
    "import csv\n",
    "import operator as itemgetter\n",
    "\n",
    "# Open the nodes file\n",
    "with open('quakers_nodelist.csv', 'r') as nodecsv:\n",
    "    # Read the csv\n",
    "    nodereader = csv.reader(nodecsv)\n",
    "    # Retrieve the data (using Python list comprhension and list slicing to remove the header row, see footnote 3)\n",
    "    nodes = [n for n in nodereader][1:]\n",
    "# Get a list of only the node names\n",
    "node_names = [n[0] for n in nodes] \n",
    "\n",
    "# Open the edges file\n",
    "with open('quakers_edgelist.csv', 'r') as edgecsv:\n",
    "    # Read the csv\n",
    "    edgereader = csv.reader(edgecsv)\n",
    "     # Retrieve the edges data\n",
    "    edges = [tuple(e) for e in edgereader][1:]"
   ]
  },
  {
   "cell_type": "code",
   "execution_count": 29,
   "metadata": {},
   "outputs": [
    {
     "name": "stdout",
     "output_type": "stream",
     "text": [
      "Some Node Names:\n",
      "['Joseph Wyeth', 'Alexander Skene of Newtyle', 'James Logan', 'Dorcas Erbery', 'Lilias Skene', 'William Mucklow', 'Thomas Salthouse', 'William Dewsbury', 'John Audland', 'Richard Claridge', 'William Bradford', 'Fettiplace Bellers', 'John Bellers', 'Isabel Yeamans', 'George Fox the younger', 'George Fox', 'John Stubbs', 'Anne Camm', 'John Camm', 'Thomas Camm']\n",
      "\n",
      "Some Edges:\n",
      "[('George Keith', 'Robert Barclay'), ('George Keith', 'Benjamin Furly'), ('George Keith', 'Anne Conway Viscountess Conway and Killultagh'), ('George Keith', 'Franciscus Mercurius van Helmont'), ('George Keith', 'William Penn'), ('George Keith', 'George Fox'), ('George Keith', 'George Whitehead'), ('George Keith', 'William Bradford'), ('James Parnel', 'Benjamin Furly'), ('James Parnel', 'Stephen Crisp'), ('Peter Collinson', 'John Bartram'), ('Peter Collinson', 'James Logan'), ('Joseph Wyeth', 'Thomas Ellwood'), ('Alexander Skene of Newtyle', 'Lilias Skene'), ('Dorcas Erbery', 'James Nayler'), ('William Mucklow', 'George Fox'), ('Franciscus Mercurius van Helmont', 'Benjamin Furly'), ('William Dewsbury', 'Edward Burrough'), ('William Dewsbury', 'George Fox'), ('William Dewsbury', 'John Crook')]\n"
     ]
    }
   ],
   "source": [
    "print(\"Some Node Names:\")\n",
    "print(node_names[:20])\n",
    "print(\"\\nSome Edges:\")\n",
    "print(edges[:20])"
   ]
  },
  {
   "cell_type": "markdown",
   "metadata": {},
   "source": [
    "#### Option B\n",
    "This option uses Pandas."
   ]
  },
  {
   "cell_type": "code",
   "execution_count": 44,
   "metadata": {},
   "outputs": [],
   "source": [
    "node_names = list(nodes_df[\"Name\"])\n",
    "edges = list(zip(list(edges_df[\"Source\"]), list(edges_df[\"Target\"])))"
   ]
  },
  {
   "cell_type": "code",
   "execution_count": 46,
   "metadata": {},
   "outputs": [
    {
     "name": "stdout",
     "output_type": "stream",
     "text": [
      "Some Node Names:\n",
      "['Joseph Wyeth', 'Alexander Skene of Newtyle', 'James Logan', 'Dorcas Erbery', 'Lilias Skene', 'William Mucklow', 'Thomas Salthouse', 'William Dewsbury', 'John Audland', 'Richard Claridge', 'William Bradford', 'Fettiplace Bellers', 'John Bellers', 'Isabel Yeamans', 'George Fox the younger', 'George Fox', 'John Stubbs', 'Anne Camm', 'John Camm', 'Thomas Camm']\n",
      "\n",
      "Some Edges:\n",
      "[('George Keith', 'Robert Barclay'), ('George Keith', 'Benjamin Furly'), ('George Keith', 'Anne Conway Viscountess Conway and Killultagh'), ('George Keith', 'Franciscus Mercurius van Helmont'), ('George Keith', 'William Penn'), ('George Keith', 'George Fox'), ('George Keith', 'George Whitehead'), ('George Keith', 'William Bradford'), ('James Parnel', 'Benjamin Furly'), ('James Parnel', 'Stephen Crisp'), ('Peter Collinson', 'John Bartram'), ('Peter Collinson', 'James Logan'), ('Joseph Wyeth', 'Thomas Ellwood'), ('Alexander Skene of Newtyle', 'Lilias Skene'), ('Dorcas Erbery', 'James Nayler'), ('William Mucklow', 'George Fox'), ('Franciscus Mercurius van Helmont', 'Benjamin Furly'), ('William Dewsbury', 'Edward Burrough'), ('William Dewsbury', 'George Fox'), ('William Dewsbury', 'John Crook')]\n"
     ]
    }
   ],
   "source": [
    "print(\"Some Node Names:\")\n",
    "print(node_names[:20])\n",
    "print(\"\\nSome Edges:\")\n",
    "print(edges[:20])"
   ]
  },
  {
   "cell_type": "markdown",
   "metadata": {},
   "source": [
    "## 2. Put the Data in a Graph\n",
    "Let's start using NetworkX!"
   ]
  },
  {
   "cell_type": "code",
   "execution_count": 61,
   "metadata": {},
   "outputs": [
    {
     "name": "stdout",
     "output_type": "stream",
     "text": [
      "Name: \n",
      "Type: Graph\n",
      "Number of nodes: 119\n",
      "Number of edges: 174\n",
      "Average degree:   2.9244\n"
     ]
    }
   ],
   "source": [
    "# Initialize a graph (a.k.a. network)\n",
    "G = nx.Graph()\n",
    "# Add nodes to the graph\n",
    "G.add_nodes_from(node_names)\n",
    "# Connect those nodes with edges\n",
    "G.add_edges_from(edges)\n",
    "print(nx.info(G))"
   ]
  },
  {
   "cell_type": "markdown",
   "metadata": {},
   "source": [
    "*Note: The `degree` of the node is the number of connections that node has to other nodes, or the number of edges that are tied to that node.  `Average degree` thus means the average number of edges per node.*"
   ]
  },
  {
   "cell_type": "code",
   "execution_count": 62,
   "metadata": {},
   "outputs": [],
   "source": [
    "# Create lists of values from each column of the nodes DataFrame\n",
    "hs_list = list(nodes_df[\"Historical Significance\"])\n",
    "g_list = list(nodes_df[\"Gender\"])\n",
    "b_list = list(nodes_df[\"Birthdate\"])\n",
    "d_list = list(nodes_df[\"Deathdate\"])\n",
    "i_list = list(nodes_df[\"ID\"])"
   ]
  },
  {
   "cell_type": "code",
   "execution_count": 63,
   "metadata": {},
   "outputs": [],
   "source": [
    "# Create dictionaries for each column, or attribute type, in the nodes DataFrame,\n",
    "# where the key is a node name and the value is an attribute\n",
    "hist_sig = dict(zip(node_names, hs_list))\n",
    "gender = dict(zip(node_names, g_list))\n",
    "birth = dict(zip(node_names, b_list))\n",
    "death = dict(zip(node_names, d_list))\n",
    "ids = dict(zip(node_names, i_list))\n",
    "#print(hist_sig)"
   ]
  },
  {
   "cell_type": "code",
   "execution_count": 64,
   "metadata": {},
   "outputs": [],
   "source": [
    "# Add the attributes to the graph\n",
    "nx.set_node_attributes(G, hist_sig, 'historical_significance')\n",
    "nx.set_node_attributes(G, gender, 'gender')\n",
    "nx.set_node_attributes(G, birth, 'birth_year')\n",
    "nx.set_node_attributes(G, death, 'death_year')\n",
    "nx.set_node_attributes(G, ids, 'id')"
   ]
  },
  {
   "cell_type": "markdown",
   "metadata": {},
   "source": [
    "Let's try printing an attribute for each node in our graph to make sure it's been created as expected."
   ]
  },
  {
   "cell_type": "code",
   "execution_count": 65,
   "metadata": {},
   "outputs": [
    {
     "name": "stdout",
     "output_type": "stream",
     "text": [
      "Joseph Wyeth 1663\n",
      "Alexander Skene of Newtyle 1621\n",
      "James Logan 1674\n",
      "Dorcas Erbery 1656\n",
      "Lilias Skene 1626\n",
      "William Mucklow 1630\n",
      "Thomas Salthouse 1630\n",
      "William Dewsbury 1621\n",
      "John Audland 1630\n",
      "Richard Claridge 1649\n",
      "William Bradford 1663\n",
      "Fettiplace Bellers 1687\n",
      "John Bellers 1654\n",
      "Isabel Yeamans 1637\n",
      "George Fox the younger 1551\n",
      "George Fox 1624\n",
      "John Stubbs 1618\n",
      "Anne Camm 1627\n",
      "John Camm 1605\n",
      "Thomas Camm 1640\n",
      "Katharine Evans 1618\n",
      "Lydia Lancaster 1683\n",
      "Samuel Clarridge 1631\n",
      "Thomas Lower 1633\n",
      "Gervase Benson 1569\n",
      "Stephen Crisp 1628\n",
      "James Claypoole 1634\n",
      "Thomas Holme 1626\n",
      "John Freame 1665\n",
      "John Swinton 1620\n",
      "William Mead 1627\n",
      "Henry Pickworth 1673\n",
      "John Crook 1616\n",
      "Gilbert Latey 1626\n",
      "Ellis Hookes 1635\n",
      "Joseph Besse 1683\n",
      "James Nayler 1618\n",
      "Elizabeth Hooten 1562\n",
      "George Whitehead 1637\n",
      "John Whitehead 1630\n",
      "William Crouch 1628\n",
      "Benjamin Furly 1636\n",
      "Silvanus Bevan 1691\n",
      "Robert Rich 1607\n",
      "John Whiting 1656\n",
      "Christopher Taylor 1614\n",
      "Thomas Lawson 1630\n",
      "Richard Farnworth 1630\n",
      "William Coddington 1601\n",
      "Thomas Taylor 1617\n",
      "Richard Vickris 1590\n",
      "Robert Barclay 1648\n",
      "Jane Sowle 1631\n",
      "Tace Sowle 1666\n",
      "Leonard Fell 1624\n",
      "Margaret Fell 1614\n",
      "George Bishop 1558\n",
      "Elizabeth Leavens 1555\n",
      "Thomas Curtis 1602\n",
      "Alice Curwen 1619\n",
      "Alexander Parker 1628\n",
      "John Wilkinson 1652\n",
      "Thomas Aldam 1616\n",
      "David Barclay of Ury 1610\n",
      "David Barclay 1682\n",
      "Sir Charles Wager 1666\n",
      "George Keith 1638\n",
      "James Parnel 1636\n",
      "Peter Collinson 1694\n",
      "Franciscus Mercurius van Helmont 1614\n",
      "William Caton 1636\n",
      "Francis Howgill 1618\n",
      "Richard Hubberthorne 1628\n",
      "William Ames 1552\n",
      "William Rogers 1601\n",
      "Isaac Norris 1671\n",
      "Anthony Sharp 1643\n",
      "Mary Fisher 1623\n",
      "Anne Conway Viscountess Conway and Killultagh 1631\n",
      "Samuel Fisher 1604\n",
      "Francis Bugg 1640\n",
      "Sarah Gibbons 1634\n",
      "William Tomlinson 1650\n",
      "Humphrey Norton 1655\n",
      "William Gibson 1628\n",
      "Gideon Wanton 1693\n",
      "John Wanton 1672\n",
      "Grace Chamber 1676\n",
      "Mary Prince 1569\n",
      "John Bartram 1699\n",
      "Edward Haistwell 1658\n",
      "John ap John 1625\n",
      "John Rous 1585\n",
      "Anthony Pearson 1627\n",
      "Solomon Eccles 1617\n",
      "John Burnyeat 1631\n",
      "Edward Burrough 1633\n",
      "Rebecca Travers 1609\n",
      "William Edmundson 1627\n",
      "Sarah Cheevers 1608\n",
      "Edward Pyott 1560\n",
      "Daniel Quare 1648\n",
      "John Penington 1655\n",
      "Mary Penington 1623\n",
      "Charles Marshall 1637\n",
      "Humphrey Woolrich 1633\n",
      "William Penn 1644\n",
      "Mary Pennyman 1630\n",
      "Dorothy Waugh 1636\n",
      "David Lloyd 1656\n",
      "Lewis Morris 1671\n",
      "Martha Simmonds 1624\n",
      "John Story 1571\n",
      "Thomas Story 1670\n",
      "Thomas Ellwood 1639\n",
      "William Simpson 1627\n",
      "Samuel Bownas 1677\n",
      "John Perrot 1555\n",
      "Hannah Stranger 1656\n"
     ]
    }
   ],
   "source": [
    "# Loop through all the nodes in the graph,\n",
    "# where n represents the name of a node\n",
    "for n in G.nodes():\n",
    "    print(n, G.nodes[n]['birth_year'])"
   ]
  },
  {
   "cell_type": "markdown",
   "metadata": {},
   "source": [
    "## 4. Print the Graph"
   ]
  },
  {
   "cell_type": "code",
   "execution_count": 66,
   "metadata": {},
   "outputs": [
    {
     "data": {
      "image/png": "[encoded data removed]",
      "text/plain": [
       "<Figure size 432x288 with 1 Axes>"
      ]
     },
     "metadata": {},
     "output_type": "display_data"
    }
   ],
   "source": [
    "nx.draw(G)"
   ]
  },
  {
   "cell_type": "markdown",
   "metadata": {},
   "source": [
    "## 5. Analyze the Graph\n",
    "Following along from the section of the [tutorial](https://programminghistorian.org/en/lessons/exploring-and-analyzing-network-data-with-python#fn:pipinstall) called \"Metrics available in NetworkX,\" analyze the graph yourself in this section!"
   ]
  },
  {
   "cell_type": "code",
   "execution_count": null,
   "metadata": {},
   "outputs": [],
   "source": []
  }
 ],
 "metadata": {
  "kernelspec": {
   "display_name": "Python 3",
   "language": "python",
   "name": "python3"
  },
  "language_info": {
   "codemirror_mode": {
    "name": "ipython",
    "version": 3
   },
   "file_extension": ".py",
   "mimetype": "text/x-python",
   "name": "python",
   "nbconvert_exporter": "python",
   "pygments_lexer": "ipython3",
   "version": "3.6.3"
  }
 },
 "nbformat": 4,
 "nbformat_minor": 4
}
